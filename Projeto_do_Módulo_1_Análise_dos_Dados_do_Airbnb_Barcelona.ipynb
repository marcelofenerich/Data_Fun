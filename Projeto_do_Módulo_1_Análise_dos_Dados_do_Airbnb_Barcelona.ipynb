{
  "nbformat": 4,
  "nbformat_minor": 0,
  "metadata": {
    "colab": {
      "name": "Projeto do Módulo 1 - Análise dos Dados do Airbnb - Barcelona",
      "provenance": [],
      "authorship_tag": "ABX9TyOQ8TPZJHFwu0FIQIZ4AcRW",
      "include_colab_link": true
    },
    "kernelspec": {
      "name": "python3",
      "display_name": "Python 3"
    },
    "language_info": {
      "name": "python"
    }
  },
  "cells": [
    {
      "cell_type": "markdown",
      "metadata": {
        "id": "view-in-github",
        "colab_type": "text"
      },
      "source": [
        "<a href=\"https://colab.research.google.com/github/marcelofenerich/Data_Fun/blob/main/Projeto_do_M%C3%B3dulo_1_An%C3%A1lise_dos_Dados_do_Airbnb_Barcelona.ipynb\" target=\"_parent\"><img src=\"https://colab.research.google.com/assets/colab-badge.svg\" alt=\"Open In Colab\"/></a>"
      ]
    },
    {
      "cell_type": "markdown",
      "metadata": {
        "id": "AqSEZXTm0oY8"
      },
      "source": [
        "# Análise dos Dados do Airbnb - *Barcelona*\n",
        "\n",
        "O [Airbnb](https://www.airbnb.com.br/) já é considerado como sendo a **maior empresa hoteleira da atualidade**. Ah, o detalhe é que ele **não possui nenhum hotel**!\n",
        "\n",
        "Conectando pessoas que querem viajar (e se hospedar) com anfitriões que querem alugar seus imóveis de maneira prática, o Airbnb fornece uma plataforma inovadora para tornar essa hospedagem alternativa.\n",
        "\n",
        "No final de 2018, a Startup fundada 10 anos atrás, já havia **hospedado mais de 300 milhões** de pessoas ao redor de todo o mundo, desafiando as redes hoteleiras tradicionais.\n",
        "\n",
        "Uma das iniciativas do Airbnb é disponibilizar dados do site, para algumas das principais cidades do mundo. Por meio do portal [Inside Airbnb](http://insideairbnb.com/get-the-data.html), é possível baixar uma grande quantidade de dados para desenvolver projetos e soluções de *Data Science*.\n",
        "\n",
        "<center><img alt=\"Analisando Airbnb\" width=\"10%\" src=\"https://www.area360.com.au/wp-content/uploads/2017/09/airbnb-logo.jpg\"></center>\n",
        "\n",
        "**Neste *notebook*, iremos analisar os dados referentes à cidade Barcelona, e ver quais insights podem ser extraídos a partir de dados brutos.**\n"
      ]
    },
    {
      "cell_type": "markdown",
      "metadata": {
        "id": "CtQUdgfb3aek"
      },
      "source": [
        "## Obtendo do dados"
      ]
    },
    {
      "cell_type": "code",
      "metadata": {
        "id": "NMX-ZH880xP1"
      },
      "source": [
        "#Pacotes\n",
        "import pandas as pd\n",
        "import numpy as np\n",
        "import matplotlib.pyplot as plt\n",
        "import seaborn as sns"
      ],
      "execution_count": 60,
      "outputs": []
    },
    {
      "cell_type": "code",
      "metadata": {
        "colab": {
          "base_uri": "https://localhost:8080/"
        },
        "id": "bQDhFqDD0_SP",
        "outputId": "99aa2ef5-1912-4dbf-b458-ff400fb8c5b7"
      },
      "source": [
        "# Lendo a base da airbnb 5 primeiras entradas\n",
        "df = pd.read_csv('http://data.insideairbnb.com/spain/catalonia/barcelona/2021-09-10/visualisations/listings.csv',nrows=5)\n",
        "df.dtypes"
      ],
      "execution_count": 5,
      "outputs": [
        {
          "output_type": "execute_result",
          "data": {
            "text/plain": [
              "id                                  int64\n",
              "name                               object\n",
              "host_id                             int64\n",
              "host_name                          object\n",
              "neighbourhood_group                object\n",
              "neighbourhood                      object\n",
              "latitude                          float64\n",
              "longitude                         float64\n",
              "room_type                          object\n",
              "price                               int64\n",
              "minimum_nights                      int64\n",
              "number_of_reviews                   int64\n",
              "last_review                        object\n",
              "reviews_per_month                 float64\n",
              "calculated_host_listings_count      int64\n",
              "availability_365                    int64\n",
              "number_of_reviews_ltm               int64\n",
              "license                            object\n",
              "dtype: object"
            ]
          },
          "metadata": {},
          "execution_count": 5
        }
      ]
    },
    {
      "cell_type": "code",
      "metadata": {
        "colab": {
          "base_uri": "https://localhost:8080/"
        },
        "id": "jo8WyvvL4BWV",
        "outputId": "f3a9e203-d4ea-4135-dd2c-12c16cd9240e"
      },
      "source": [
        "# Lendo a base da airbnb \n",
        "df = pd.read_csv('http://data.insideairbnb.com/spain/catalonia/barcelona/2021-09-10/visualisations/listings.csv',dtype={'id':'str','host_id':'str','latitude':'str','longitude':'str'})\n",
        "# Normalizando os tipos:\n",
        "#os id e a latidude e longetude vão considerar como string pois não são valores que podemos somar ou fazer qualquer tipo de operação matemática\n",
        "\n",
        "df.dtypes"
      ],
      "execution_count": 64,
      "outputs": [
        {
          "output_type": "execute_result",
          "data": {
            "text/plain": [
              "id                                  object\n",
              "name                                object\n",
              "host_id                             object\n",
              "host_name                           object\n",
              "neighbourhood_group                 object\n",
              "neighbourhood                       object\n",
              "latitude                            object\n",
              "longitude                           object\n",
              "room_type                         category\n",
              "price                                int64\n",
              "minimum_nights                       int64\n",
              "number_of_reviews                    int64\n",
              "last_review                         object\n",
              "reviews_per_month                  float64\n",
              "calculated_host_listings_count       int64\n",
              "availability_365                     int64\n",
              "number_of_reviews_ltm                int64\n",
              "license                             object\n",
              "dtype: object"
            ]
          },
          "metadata": {},
          "execution_count": 64
        }
      ]
    },
    {
      "cell_type": "code",
      "metadata": {
        "id": "0bSJXODtLCpv"
      },
      "source": [
        ""
      ],
      "execution_count": null,
      "outputs": []
    },
    {
      "cell_type": "markdown",
      "metadata": {
        "id": "S5tOJ6Bq3et2"
      },
      "source": [
        "## Analisando os Dados"
      ]
    },
    {
      "cell_type": "markdown",
      "metadata": {
        "id": "MTfaZVBH3hoV"
      },
      "source": [
        "**Dicionario**\n",
        "\n",
        "\n",
        "*   id - Id do produto \n",
        "*   name - Nome do produto\n",
        "*   host_id - Id unico para o host/usarios\n",
        "*   host_name - Nome do host do produto\n",
        "*   neighbourhood_group - Distrito\n",
        "*   neighbourhood -  Bairro\n",
        "*   latitude - Coordenadas de latitude\n",
        "*   longitude - Coordenadas de longetude\n",
        "*   room_type - Tipo de locação (casa toda, um quarto ou quarto compartilhado)\n",
        "*   price -  Preço da locação diario (moeda do local)\n",
        "*   minimum_nights -  Noites minimas necessarias para alugar\n",
        "*   number_of_reviews - Número de avaliações que o produto recebeu\n",
        "*   reviews_per_month - Quantidade média de avaliações por mês\n",
        "*   calculated_host_listings_count -  Quantidade de imóveis do host\n",
        "*   availability_365 - Quantidade de dias que o produto ficará disponivel dentro de 365 dias\n",
        "*  number_of_reviews_ltm - Número de avaliações que o produto teve dentro de um ano\n",
        "*  license - Número de registro\n",
        "\n",
        "\n",
        "\n",
        "\n"
      ]
    },
    {
      "cell_type": "markdown",
      "metadata": {
        "id": "8cFl2AuTH0-W"
      },
      "source": [
        "**Possiveis Analises a serem feita**\n",
        "\n",
        "\n",
        "*   Qual é o preço médio de aluguel nas casas de barcelona\n",
        " *  Por bairro tambem\n",
        "\n",
        "*   Qual é o tipo de aluguel mais procurado\n",
        "\n",
        "* Qual é lugar mais caro e o mais barato para se alugar\n"
      ]
    },
    {
      "cell_type": "code",
      "metadata": {
        "colab": {
          "base_uri": "https://localhost:8080/"
        },
        "id": "M_R_T5vP9VHR",
        "outputId": "01d03b8f-246a-4d1b-97bc-26de22891528"
      },
      "source": [
        "# Formato da base\n",
        "entradas=df.shape[0]\n",
        "variaveis= df.shape[1]\n",
        "print('Temos {0} entradas e {1} variaveis'.format(entradas,variaveis))"
      ],
      "execution_count": 65,
      "outputs": [
        {
          "output_type": "stream",
          "name": "stdout",
          "text": [
            "Temos 16206 entradas e 18 variaveis\n"
          ]
        }
      ]
    },
    {
      "cell_type": "code",
      "metadata": {
        "colab": {
          "base_uri": "https://localhost:8080/"
        },
        "id": "Tl953EbI3eVu",
        "outputId": "2124d916-244f-4c00-c1ff-227e2f1f0628"
      },
      "source": [
        "# Analisando dados vazios\n",
        "print(df.isna().sum()/entradas)\n",
        "\n",
        "print('Total de {0:.2%}'.format(df.isna().sum().sum()/entradas,'.2f'))"
      ],
      "execution_count": 66,
      "outputs": [
        {
          "output_type": "stream",
          "name": "stdout",
          "text": [
            "id                                0.000000\n",
            "name                              0.000617\n",
            "host_id                           0.000000\n",
            "host_name                         0.002468\n",
            "neighbourhood_group               0.000000\n",
            "neighbourhood                     0.000000\n",
            "latitude                          0.000000\n",
            "longitude                         0.000000\n",
            "room_type                         0.000000\n",
            "price                             0.000000\n",
            "minimum_nights                    0.000000\n",
            "number_of_reviews                 0.000000\n",
            "last_review                       0.272553\n",
            "reviews_per_month                 0.272553\n",
            "calculated_host_listings_count    0.000000\n",
            "availability_365                  0.000000\n",
            "number_of_reviews_ltm             0.000000\n",
            "license                           0.370665\n",
            "dtype: float64\n",
            "Total de 91.89%\n"
          ]
        }
      ]
    },
    {
      "cell_type": "code",
      "metadata": {
        "colab": {
          "base_uri": "https://localhost:8080/",
          "height": 879
        },
        "id": "CQrOLyUj97U5",
        "outputId": "14a9c518-2d72-4fa7-9aee-f1dbad4198bd"
      },
      "source": [
        "#Distribuições normal dos valores\n",
        "df.hist(bins=15,figsize=(10,15));"
      ],
      "execution_count": 67,
      "outputs": [
        {
          "output_type": "display_data",
          "data": {
            "image/png": "[encoded data removed]",
            "text/plain": [
              "<Figure size 720x1080 with 9 Axes>"
            ]
          },
          "metadata": {
            "needs_background": "light"
          }
        }
      ]
    },
    {
      "cell_type": "code",
      "metadata": {
        "colab": {
          "base_uri": "https://localhost:8080/",
          "height": 265
        },
        "id": "lrb-PASzG72H",
        "outputId": "7a14c749-68c4-4f05-e08e-445ffafd65d3"
      },
      "source": [
        "# Analisando a correlação dos valores\n",
        "df.corr()"
      ],
      "execution_count": 69,
      "outputs": [
        {
          "output_type": "execute_result",
          "data": {
            "text/html": [
              "<div>\n",
              "<style scoped>\n",
              "    .dataframe tbody tr th:only-of-type {\n",
              "        vertical-align: middle;\n",
              "    }\n",
              "\n",
              "    .dataframe tbody tr th {\n",
              "        vertical-align: top;\n",
              "    }\n",
              "\n",
              "    .dataframe thead th {\n",
              "        text-align: right;\n",
              "    }\n",
              "</style>\n",
              "<table border=\"1\" class=\"dataframe\">\n",
              "  <thead>\n",
              "    <tr style=\"text-align: right;\">\n",
              "      <th></th>\n",
              "      <th>price</th>\n",
              "      <th>minimum_nights</th>\n",
              "      <th>number_of_reviews</th>\n",
              "      <th>reviews_per_month</th>\n",
              "      <th>calculated_host_listings_count</th>\n",
              "      <th>availability_365</th>\n",
              "      <th>number_of_reviews_ltm</th>\n",
              "    </tr>\n",
              "  </thead>\n",
              "  <tbody>\n",
              "    <tr>\n",
              "      <th>price</th>\n",
              "      <td>1.000000</td>\n",
              "      <td>0.026580</td>\n",
              "      <td>0.001127</td>\n",
              "      <td>-0.013837</td>\n",
              "      <td>0.037240</td>\n",
              "      <td>0.061427</td>\n",
              "      <td>-0.010607</td>\n",
              "    </tr>\n",
              "    <tr>\n",
              "      <th>minimum_nights</th>\n",
              "      <td>0.026580</td>\n",
              "      <td>1.000000</td>\n",
              "      <td>-0.123203</td>\n",
              "      <td>-0.137558</td>\n",
              "      <td>0.062688</td>\n",
              "      <td>0.114693</td>\n",
              "      <td>-0.117728</td>\n",
              "    </tr>\n",
              "    <tr>\n",
              "      <th>number_of_reviews</th>\n",
              "      <td>0.001127</td>\n",
              "      <td>-0.123203</td>\n",
              "      <td>1.000000</td>\n",
              "      <td>0.551642</td>\n",
              "      <td>-0.113397</td>\n",
              "      <td>0.038861</td>\n",
              "      <td>0.473026</td>\n",
              "    </tr>\n",
              "    <tr>\n",
              "      <th>reviews_per_month</th>\n",
              "      <td>-0.013837</td>\n",
              "      <td>-0.137558</td>\n",
              "      <td>0.551642</td>\n",
              "      <td>1.000000</td>\n",
              "      <td>-0.045938</td>\n",
              "      <td>0.080239</td>\n",
              "      <td>0.586844</td>\n",
              "    </tr>\n",
              "    <tr>\n",
              "      <th>calculated_host_listings_count</th>\n",
              "      <td>0.037240</td>\n",
              "      <td>0.062688</td>\n",
              "      <td>-0.113397</td>\n",
              "      <td>-0.045938</td>\n",
              "      <td>1.000000</td>\n",
              "      <td>0.168057</td>\n",
              "      <td>-0.044455</td>\n",
              "    </tr>\n",
              "    <tr>\n",
              "      <th>availability_365</th>\n",
              "      <td>0.061427</td>\n",
              "      <td>0.114693</td>\n",
              "      <td>0.038861</td>\n",
              "      <td>0.080239</td>\n",
              "      <td>0.168057</td>\n",
              "      <td>1.000000</td>\n",
              "      <td>0.085883</td>\n",
              "    </tr>\n",
              "    <tr>\n",
              "      <th>number_of_reviews_ltm</th>\n",
              "      <td>-0.010607</td>\n",
              "      <td>-0.117728</td>\n",
              "      <td>0.473026</td>\n",
              "      <td>0.586844</td>\n",
              "      <td>-0.044455</td>\n",
              "      <td>0.085883</td>\n",
              "      <td>1.000000</td>\n",
              "    </tr>\n",
              "  </tbody>\n",
              "</table>\n",
              "</div>"
            ],
            "text/plain": [
              "                                   price  ...  number_of_reviews_ltm\n",
              "price                           1.000000  ...              -0.010607\n",
              "minimum_nights                  0.026580  ...              -0.117728\n",
              "number_of_reviews               0.001127  ...               0.473026\n",
              "reviews_per_month              -0.013837  ...               0.586844\n",
              "calculated_host_listings_count  0.037240  ...              -0.044455\n",
              "availability_365                0.061427  ...               0.085883\n",
              "number_of_reviews_ltm          -0.010607  ...               1.000000\n",
              "\n",
              "[7 rows x 7 columns]"
            ]
          },
          "metadata": {},
          "execution_count": 69
        }
      ]
    },
    {
      "cell_type": "code",
      "metadata": {
        "colab": {
          "base_uri": "https://localhost:8080/",
          "height": 520
        },
        "id": "W7xBRDY-Fw1m",
        "outputId": "b5555980-8454-4678-9060-93a4b519ff1b"
      },
      "source": [
        "#Mapa de correlação\n",
        "\n",
        "plt.figure(figsize=(8, 6))\n",
        "sns.heatmap(df.corr(), annot=True)\n",
        "plt.show()\n",
        "\n",
        "# Não mostrou muita correlação entre as variaveis com exceção as variaveis sobre avaliação que apresentaram um valor levemente significante"
      ],
      "execution_count": 70,
      "outputs": [
        {
          "output_type": "display_data",
          "data": {
            "image/png": "[encoded data removed]",
            "text/plain": [
              "<Figure size 576x432 with 2 Axes>"
            ]
          },
          "metadata": {
            "needs_background": "light"
          }
        }
      ]
    },
    {
      "cell_type": "code",
      "metadata": {
        "colab": {
          "base_uri": "https://localhost:8080/",
          "height": 295
        },
        "id": "p2JUtTlyFgf4",
        "outputId": "39977d3f-ddbc-4f4c-a12a-82e4fe5f9fec"
      },
      "source": [
        "# Resumo das estatiticas basicas\n",
        "df.describe()\n",
        "\n",
        "# outlines:todos os valores maximos apresentaram um valor muito longe do percentil de 75%, com exeção availability_365, pode ser um sinal de outliner \n"
      ],
      "execution_count": 71,
      "outputs": [
        {
          "output_type": "execute_result",
          "data": {
            "text/html": [
              "<div>\n",
              "<style scoped>\n",
              "    .dataframe tbody tr th:only-of-type {\n",
              "        vertical-align: middle;\n",
              "    }\n",
              "\n",
              "    .dataframe tbody tr th {\n",
              "        vertical-align: top;\n",
              "    }\n",
              "\n",
              "    .dataframe thead th {\n",
              "        text-align: right;\n",
              "    }\n",
              "</style>\n",
              "<table border=\"1\" class=\"dataframe\">\n",
              "  <thead>\n",
              "    <tr style=\"text-align: right;\">\n",
              "      <th></th>\n",
              "      <th>price</th>\n",
              "      <th>minimum_nights</th>\n",
              "      <th>number_of_reviews</th>\n",
              "      <th>reviews_per_month</th>\n",
              "      <th>calculated_host_listings_count</th>\n",
              "      <th>availability_365</th>\n",
              "      <th>number_of_reviews_ltm</th>\n",
              "    </tr>\n",
              "  </thead>\n",
              "  <tbody>\n",
              "    <tr>\n",
              "      <th>count</th>\n",
              "      <td>16206.000000</td>\n",
              "      <td>16206.000000</td>\n",
              "      <td>16206.000000</td>\n",
              "      <td>11789.000000</td>\n",
              "      <td>16206.000000</td>\n",
              "      <td>16206.000000</td>\n",
              "      <td>16206.000000</td>\n",
              "    </tr>\n",
              "    <tr>\n",
              "      <th>mean</th>\n",
              "      <td>109.258299</td>\n",
              "      <td>13.484882</td>\n",
              "      <td>33.403924</td>\n",
              "      <td>1.157067</td>\n",
              "      <td>16.974824</td>\n",
              "      <td>164.860607</td>\n",
              "      <td>3.141553</td>\n",
              "    </tr>\n",
              "    <tr>\n",
              "      <th>std</th>\n",
              "      <td>294.915363</td>\n",
              "      <td>32.938037</td>\n",
              "      <td>66.333137</td>\n",
              "      <td>1.423244</td>\n",
              "      <td>32.723171</td>\n",
              "      <td>136.379889</td>\n",
              "      <td>7.647645</td>\n",
              "    </tr>\n",
              "    <tr>\n",
              "      <th>min</th>\n",
              "      <td>0.000000</td>\n",
              "      <td>1.000000</td>\n",
              "      <td>0.000000</td>\n",
              "      <td>0.010000</td>\n",
              "      <td>1.000000</td>\n",
              "      <td>0.000000</td>\n",
              "      <td>0.000000</td>\n",
              "    </tr>\n",
              "    <tr>\n",
              "      <th>25%</th>\n",
              "      <td>40.000000</td>\n",
              "      <td>1.000000</td>\n",
              "      <td>0.000000</td>\n",
              "      <td>0.180000</td>\n",
              "      <td>1.000000</td>\n",
              "      <td>9.000000</td>\n",
              "      <td>0.000000</td>\n",
              "    </tr>\n",
              "    <tr>\n",
              "      <th>50%</th>\n",
              "      <td>70.000000</td>\n",
              "      <td>3.000000</td>\n",
              "      <td>4.000000</td>\n",
              "      <td>0.690000</td>\n",
              "      <td>3.000000</td>\n",
              "      <td>151.500000</td>\n",
              "      <td>0.000000</td>\n",
              "    </tr>\n",
              "    <tr>\n",
              "      <th>75%</th>\n",
              "      <td>122.000000</td>\n",
              "      <td>30.000000</td>\n",
              "      <td>34.000000</td>\n",
              "      <td>1.660000</td>\n",
              "      <td>16.000000</td>\n",
              "      <td>308.000000</td>\n",
              "      <td>3.000000</td>\n",
              "    </tr>\n",
              "    <tr>\n",
              "      <th>max</th>\n",
              "      <td>9999.000000</td>\n",
              "      <td>1124.000000</td>\n",
              "      <td>853.000000</td>\n",
              "      <td>24.000000</td>\n",
              "      <td>177.000000</td>\n",
              "      <td>365.000000</td>\n",
              "      <td>145.000000</td>\n",
              "    </tr>\n",
              "  </tbody>\n",
              "</table>\n",
              "</div>"
            ],
            "text/plain": [
              "              price  minimum_nights  ...  availability_365  number_of_reviews_ltm\n",
              "count  16206.000000    16206.000000  ...      16206.000000           16206.000000\n",
              "mean     109.258299       13.484882  ...        164.860607               3.141553\n",
              "std      294.915363       32.938037  ...        136.379889               7.647645\n",
              "min        0.000000        1.000000  ...          0.000000               0.000000\n",
              "25%       40.000000        1.000000  ...          9.000000               0.000000\n",
              "50%       70.000000        3.000000  ...        151.500000               0.000000\n",
              "75%      122.000000       30.000000  ...        308.000000               3.000000\n",
              "max     9999.000000     1124.000000  ...        365.000000             145.000000\n",
              "\n",
              "[8 rows x 7 columns]"
            ]
          },
          "metadata": {},
          "execution_count": 71
        }
      ]
    },
    {
      "cell_type": "code",
      "metadata": {
        "colab": {
          "base_uri": "https://localhost:8080/",
          "height": 592
        },
        "id": "LrXqRrKXPmcl",
        "outputId": "43868c37-6e39-4275-def5-19978c5e4743"
      },
      "source": [
        "df.plot(kind='box',figsize=(20,10),subplots=True);"
      ],
      "execution_count": 82,
      "outputs": [
        {
          "output_type": "display_data",
          "data": {
            "image/png": "[encoded data removed]",
            "text/plain": [
              "<Figure size 1440x720 with 7 Axes>"
            ]
          },
          "metadata": {
            "needs_background": "light"
          }
        }
      ]
    },
    {
      "cell_type": "markdown",
      "metadata": {
        "id": "q5YdE28BRA12"
      },
      "source": [
        "Respondendo as Perguntas"
      ]
    },
    {
      "cell_type": "markdown",
      "metadata": {
        "id": "cUPCSirqRDPG"
      },
      "source": [
        "Qual é o preço médio de aluguel nas casas de barcelona\n",
        "\n",
        "Por bairro tambem"
      ]
    },
    {
      "cell_type": "code",
      "metadata": {
        "colab": {
          "base_uri": "https://localhost:8080/"
        },
        "id": "h5-NupXOQl6w",
        "outputId": "744f1049-a8a5-46f8-fbab-e8b503b59795"
      },
      "source": [
        "print('Preço médio das casas em Barcelona é de : € {:.2f}'.format(df.price.mean()))"
      ],
      "execution_count": 86,
      "outputs": [
        {
          "output_type": "stream",
          "name": "stdout",
          "text": [
            "Preço médio das casas em Barcelona é de : € 109.26\n"
          ]
        }
      ]
    },
    {
      "cell_type": "code",
      "metadata": {
        "colab": {
          "base_uri": "https://localhost:8080/"
        },
        "id": "zQhkKtjgRwj8",
        "outputId": "8e185668-08cb-4e03-a25c-b4a110f7bf50"
      },
      "source": [
        "#Preço médio por bairro\n",
        "média_bairro=df.groupby('neighbourhood').price.mean()\n",
        "média_bairro.sort_values(ascending=False)[:10]\n",
        "# pode se perceber que Les corts tem uma maior média de preço, temos que vê se não teve nenhuma influencia no dados para dar esse resultado"
      ],
      "execution_count": 123,
      "outputs": [
        {
          "output_type": "execute_result",
          "data": {
            "text/plain": [
              "neighbourhood\n",
              "les Corts                                       471.873737\n",
              "Diagonal Mar i el Front Marítim del Poblenou    222.986395\n",
              "la Font d'en Fargues                            180.400000\n",
              "Vallvidrera, el Tibidabo i les Planes           176.958333\n",
              "la Vila Olímpica del Poblenou                   176.189189\n",
              "el Clot                                         171.229167\n",
              "Pedralbes                                       164.547619\n",
              "la Dreta de l'Eixample                          151.506091\n",
              "Sant Gervasi - Galvany                          144.460784\n",
              "la Marina del Prat Vermell                      142.875000\n",
              "Name: price, dtype: float64"
            ]
          },
          "metadata": {},
          "execution_count": 123
        }
      ]
    },
    {
      "cell_type": "code",
      "metadata": {
        "colab": {
          "base_uri": "https://localhost:8080/"
        },
        "id": "6NaD3lpLYOho",
        "outputId": "abbae97e-7274-47d1-ec09-f833dbeb45ec"
      },
      "source": [
        "#verificando se exite entradas suficientes para consideramos\n",
        "df.neighbourhood.loc[df.neighbourhood.isin(média_bairro.sort_values(ascending=False)[:10].index)].value_counts()"
      ],
      "execution_count": 128,
      "outputs": [
        {
          "output_type": "execute_result",
          "data": {
            "text/plain": [
              "la Dreta de l'Eixample                          1970\n",
              "Sant Gervasi - Galvany                           306\n",
              "les Corts                                        198\n",
              "la Vila Olímpica del Poblenou                    148\n",
              "Diagonal Mar i el Front Marítim del Poblenou     147\n",
              "el Clot                                           96\n",
              "Pedralbes                                         42\n",
              "Vallvidrera, el Tibidabo i les Planes             24\n",
              "la Font d'en Fargues                              10\n",
              "la Marina del Prat Vermell                         8\n",
              "Name: neighbourhood, dtype: int64"
            ]
          },
          "metadata": {},
          "execution_count": 128
        }
      ]
    },
    {
      "cell_type": "markdown",
      "metadata": {
        "id": "kGKEct6GXwEw"
      },
      "source": [
        "Pode se ver os bairros **la Marina del Prat Vermell** e **la Font d'en Fargue** estão entre os bairros mais caros, porém não temos dados os suficiente fazer afirmar esse valor"
      ]
    },
    {
      "cell_type": "code",
      "metadata": {
        "colab": {
          "base_uri": "https://localhost:8080/"
        },
        "id": "DjCv8_FsSUa3",
        "outputId": "d138de6c-dbf6-4c55-c0a1-01b978ef23c7"
      },
      "source": [
        "# O bairro onde tem o maior aluguel e o que tem o menor\n",
        "maximo_aluguel_bairro=média_bairro.loc[média_bairro==média_bairro.max()]\n",
        "minimo_aluguel_bairro=média_bairro.loc[média_bairro==média_bairro.min()]\n",
        "\n",
        "print( ' O bairro {0} tem o maior aluguel médio, onde se paga na média €{1:.2f}, '\n",
        "'enquanto o bairro {2} tem a menor média de aluguel, se paga €{3:.2f}'.format(maximo_aluguel_bairro.index[0],maximo_aluguel_bairro[0],minimo_aluguel_bairro.index[0],minimo_aluguel_bairro[0]))\n"
      ],
      "execution_count": 112,
      "outputs": [
        {
          "output_type": "stream",
          "name": "stdout",
          "text": [
            " O bairro les Corts tem o maior aluguel médio, onde se paga na média €471.87, enquanto o bairro Montbau tem a menor média de aluguel, se paga €24.89\n"
          ]
        }
      ]
    },
    {
      "cell_type": "markdown",
      "metadata": {
        "id": "cwR4vm3WV53m"
      },
      "source": [
        "Qual é o tipo de aluguel mais procurado"
      ]
    },
    {
      "cell_type": "code",
      "metadata": {
        "colab": {
          "base_uri": "https://localhost:8080/"
        },
        "id": "yM1t17L6ShN9",
        "outputId": "9bf9a837-e120-4181-cce8-3be98d2de6d1"
      },
      "source": [
        "# Quantidade de tipos alocações que acontecem\n",
        "df.room_type.value_counts()"
      ],
      "execution_count": 113,
      "outputs": [
        {
          "output_type": "execute_result",
          "data": {
            "text/plain": [
              "Entire home/apt    8678\n",
              "Private room       7104\n",
              "Hotel room          241\n",
              "Shared room         183\n",
              "Name: room_type, dtype: int64"
            ]
          },
          "metadata": {},
          "execution_count": 113
        }
      ]
    },
    {
      "cell_type": "code",
      "metadata": {
        "colab": {
          "base_uri": "https://localhost:8080/"
        },
        "id": "yWaAdyBuWVQW",
        "outputId": "e79b5572-7653-49cc-d4c1-1f96639aefe1"
      },
      "source": [
        "# em %\n",
        "df.room_type.value_counts()/entradas"
      ],
      "execution_count": 114,
      "outputs": [
        {
          "output_type": "execute_result",
          "data": {
            "text/plain": [
              "Entire home/apt    0.535481\n",
              "Private room       0.438356\n",
              "Hotel room         0.014871\n",
              "Shared room        0.011292\n",
              "Name: room_type, dtype: float64"
            ]
          },
          "metadata": {},
          "execution_count": 114
        }
      ]
    },
    {
      "cell_type": "code",
      "metadata": {
        "colab": {
          "base_uri": "https://localhost:8080/"
        },
        "id": "RZUHKlVGWl1D",
        "outputId": "603d95ed-cc1f-47c5-dcb6-f716965c198e"
      },
      "source": [
        "# olhando no bairro onde tem a maior média\n",
        "df.room_type.loc[df.neighbourhood==maximo_aluguel_bairro.index[0]].value_counts()"
      ],
      "execution_count": 115,
      "outputs": [
        {
          "output_type": "execute_result",
          "data": {
            "text/plain": [
              "Entire home/apt    122\n",
              "Private room        74\n",
              "Shared room          2\n",
              "Hotel room           0\n",
              "Name: room_type, dtype: int64"
            ]
          },
          "metadata": {},
          "execution_count": 115
        }
      ]
    },
    {
      "cell_type": "code",
      "metadata": {
        "colab": {
          "base_uri": "https://localhost:8080/"
        },
        "id": "d0lstWJqW6dw",
        "outputId": "23155796-f1b7-479f-88be-b452ff61007c"
      },
      "source": [
        "# olhando no bairro onde tem a menor média\n",
        "df.room_type.loc[df.neighbourhood==minimo_aluguel_bairro.index[0]].value_counts()"
      ],
      "execution_count": 116,
      "outputs": [
        {
          "output_type": "execute_result",
          "data": {
            "text/plain": [
              "Private room       8\n",
              "Entire home/apt    1\n",
              "Shared room        0\n",
              "Hotel room         0\n",
              "Name: room_type, dtype: int64"
            ]
          },
          "metadata": {},
          "execution_count": 116
        }
      ]
    },
    {
      "cell_type": "markdown",
      "metadata": {
        "id": "QSU4vMWeZKhI"
      },
      "source": [
        "## Conclusão"
      ]
    },
    {
      "cell_type": "markdown",
      "metadata": {
        "id": "3FTkNFwMZNy1"
      },
      "source": [
        "Foi feita uma analise rasa sobre os dados é percepitivel que exista outiliners para ser tratado, pode ser por uma falta de conhecimento sobre a região, mas na anlise de dados fez sentido olhando os dois bairros maior aluguel e menor aluguel.\n",
        "\n",
        "\n",
        "\n",
        "\n",
        "\n",
        "No maior aluguel os tipos alugados mais comuns são os que são o lugar todo isso deixando mais caro mesmo\n",
        "\n",
        "\n",
        "Enquanto no menor são mais quartos individuais \n",
        "\n",
        "\n",
        "\n",
        "\n"
      ]
    }
  ]
}